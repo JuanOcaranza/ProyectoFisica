{
 "cells": [
  {
   "cell_type": "code",
   "execution_count": null,
   "metadata": {},
   "outputs": [],
   "source": [
    "import numpy as np\n",
    "from video import Video\n",
    "from data import Data\n",
    "from plotter import Plotter\n",
    "from adapter import Adapter\n",
    "from unit_converter import Unit_converter\n",
    "import column_filter as cf\n",
    "from forces import Forces\n",
    "import pickle as pkl"
   ]
  },
  {
   "cell_type": "code",
   "execution_count": null,
   "metadata": {},
   "outputs": [],
   "source": [
    "joules_per_calorie = 4.184\n",
    "reference_distance = 0.3\n",
    "mass_weight = 1\n",
    "mass_forearm = 1\n",
    "radius_bicep = 0.04\n",
    "video_name = \"video2\"\n",
    "video = Video(f\"videos/{video_name}.mp4\")\n",
    "if not video.is_opened():\n",
    "    print(\"Video not found\")\n",
    "    exit()\n",
    "\n",
    "objects = [\"shoulder\", \"elbow\", \"wrist\"]"
   ]
  },
  {
   "cell_type": "code",
   "execution_count": null,
   "metadata": {},
   "outputs": [],
   "source": [
    "with open(f\"keypoints/{video_name}\", \"rb\") as f:\n",
    "    positions = pkl.load(f)"
   ]
  },
  {
   "cell_type": "code",
   "execution_count": null,
   "metadata": {},
   "outputs": [],
   "source": [
    "adapter = Adapter(positions, objects, video.get_height())\n",
    "data = Data(adapter.get_adapted_data(), objects)\n",
    "df = data.get_data()\n",
    "raw_data = df[:]"
   ]
  },
  {
   "cell_type": "code",
   "execution_count": null,
   "metadata": {},
   "outputs": [],
   "source": [
    "unit_converter = Unit_converter(df['r_wrist'].iloc[0], reference_distance, video.get_fps(), 1)\n",
    "df = unit_converter.convert_position(df, cf.position_columns(df.columns))\n",
    "df = unit_converter.convert_velocity(df, cf.velocity_columns(df.columns))\n",
    "df = unit_converter.convert_acceleration(df, cf.acceleration_columns(df.columns))\n",
    "df = unit_converter.convert_angular_velocity(df, ['angular_velocity'])\n",
    "df = unit_converter.convert_angular_acceleration(df, ['angular_acceleration'])\n",
    "df = unit_converter.convert_time(df, ['time'])\n",
    "df = unit_converter.convert_position(df, ['distance_elbow_shoulder'])"
   ]
  },
  {
   "cell_type": "code",
   "execution_count": null,
   "metadata": {},
   "outputs": [],
   "source": [
    "forces = Forces(df, mass_forearm, mass_weight, radius_bicep)\n",
    "df = forces.get_data_with_forces()"
   ]
  },
  {
   "cell_type": "code",
   "execution_count": null,
   "metadata": {},
   "outputs": [],
   "source": [
    "work = forces.get_work()\n",
    "calories = work / joules_per_calorie"
   ]
  },
  {
   "cell_type": "code",
   "execution_count": null,
   "metadata": {},
   "outputs": [],
   "source": [
    "plotter = Plotter(df)"
   ]
  },
  {
   "cell_type": "code",
   "execution_count": null,
   "metadata": {},
   "outputs": [],
   "source": [
    "video.show_with_vectors([\n",
    "    (raw_data['rx_wrist'].values, raw_data['ry_wrist'].values, raw_data['vx_wrist'].values, raw_data['vy_wrist'].values, 'v', (0, 255, 0), video.get_fps()),\n",
    "    (raw_data['rx_wrist'].values, raw_data['ry_wrist'].values, raw_data['ax_wrist'].values, raw_data['ay_wrist'].values, 'a', (0, 0, 255), video.get_fps() ** 2)\n",
    "], \"Velocity and Acceleration\")"
   ]
  },
  {
   "cell_type": "code",
   "execution_count": null,
   "metadata": {},
   "outputs": [],
   "source": [
    "plotter.show_plot()"
   ]
  },
  {
   "cell_type": "code",
   "execution_count": null,
   "metadata": {},
   "outputs": [],
   "source": [
    "video.close()"
   ]
  },
  {
   "cell_type": "code",
   "execution_count": null,
   "metadata": {},
   "outputs": [],
   "source": [
    "print(f\"Calories: {calories}\")"
   ]
  }
 ],
 "metadata": {
  "kernelspec": {
   "display_name": "Python 3",
   "language": "python",
   "name": "python3"
  },
  "language_info": {
   "name": "python",
   "version": "3.12.2"
  }
 },
 "nbformat": 4,
 "nbformat_minor": 2
}
